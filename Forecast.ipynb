{
 "cells": [
  {
   "cell_type": "markdown",
   "id": "f1e50329-2bc0-4a4f-b79e-aa72231444f0",
   "metadata": {},
   "source": [
    "# Предобработка данных и их прогнозирование"
   ]
  },
  {
   "cell_type": "code",
   "execution_count": 1,
   "id": "bc38bb2d-2347-434d-b33e-3ac7a98b5f49",
   "metadata": {},
   "outputs": [],
   "source": [
    "import pandas as pd\n",
    "import matplotlib.pyplot as plt\n",
    "import numpy as np\n",
    "import seaborn as sns\n",
    "from scipy import stats\n",
    "from sktime.utils.plotting import plot_series\n",
    "from sklearn.ensemble import IsolationForest\n",
    "\n",
    "import warnings\n",
    "warnings.filterwarnings('ignore')"
   ]
  },
  {
   "cell_type": "code",
   "execution_count": 2,
   "id": "eb44f43a-99e8-451f-a4e7-22b8df3ffef4",
   "metadata": {},
   "outputs": [],
   "source": [
    "file_path = 'Month_Value_1.csv'\n",
    "df = pd.read_csv(file_path)"
   ]
  },
  {
   "cell_type": "markdown",
   "id": "ae6e2f2a-37e9-4d73-b764-f53e61237bad",
   "metadata": {},
   "source": [
    "## 1. Просмотр информации о таблице с данными"
   ]
  },
  {
   "cell_type": "code",
   "execution_count": 3,
   "id": "66b248af-1747-43bf-b42e-2e30e4b2f1f0",
   "metadata": {},
   "outputs": [
    {
     "name": "stdout",
     "output_type": "stream",
     "text": [
      "<class 'pandas.core.frame.DataFrame'>\n",
      "RangeIndex: 96 entries, 0 to 95\n",
      "Data columns (total 5 columns):\n",
      " #   Column                                    Non-Null Count  Dtype  \n",
      "---  ------                                    --------------  -----  \n",
      " 0   Period                                    96 non-null     object \n",
      " 1   Revenue                                   64 non-null     float64\n",
      " 2   Sales_quantity                            64 non-null     float64\n",
      " 3   Average_cost                              64 non-null     float64\n",
      " 4   The_average_annual_payroll_of_the_region  64 non-null     float64\n",
      "dtypes: float64(4), object(1)\n",
      "memory usage: 3.9+ KB\n"
     ]
    }
   ],
   "source": [
    "df.info()"
   ]
  },
  {
   "cell_type": "code",
   "execution_count": 4,
   "id": "521cfb05-7227-4f2f-8700-d4fb13f6700e",
   "metadata": {},
   "outputs": [
    {
     "data": {
      "text/html": [
       "<div>\n",
       "<style scoped>\n",
       "    .dataframe tbody tr th:only-of-type {\n",
       "        vertical-align: middle;\n",
       "    }\n",
       "\n",
       "    .dataframe tbody tr th {\n",
       "        vertical-align: top;\n",
       "    }\n",
       "\n",
       "    .dataframe thead th {\n",
       "        text-align: right;\n",
       "    }\n",
       "</style>\n",
       "<table border=\"1\" class=\"dataframe\">\n",
       "  <thead>\n",
       "    <tr style=\"text-align: right;\">\n",
       "      <th></th>\n",
       "      <th>Period</th>\n",
       "      <th>Revenue</th>\n",
       "      <th>Sales_quantity</th>\n",
       "      <th>Average_cost</th>\n",
       "      <th>The_average_annual_payroll_of_the_region</th>\n",
       "    </tr>\n",
       "  </thead>\n",
       "  <tbody>\n",
       "    <tr>\n",
       "      <th>0</th>\n",
       "      <td>01.01.2015</td>\n",
       "      <td>1.601007e+07</td>\n",
       "      <td>12729.0</td>\n",
       "      <td>1257.763541</td>\n",
       "      <td>30024676.0</td>\n",
       "    </tr>\n",
       "    <tr>\n",
       "      <th>1</th>\n",
       "      <td>01.02.2015</td>\n",
       "      <td>1.580759e+07</td>\n",
       "      <td>11636.0</td>\n",
       "      <td>1358.507000</td>\n",
       "      <td>30024676.0</td>\n",
       "    </tr>\n",
       "    <tr>\n",
       "      <th>2</th>\n",
       "      <td>01.03.2015</td>\n",
       "      <td>2.204715e+07</td>\n",
       "      <td>15922.0</td>\n",
       "      <td>1384.697024</td>\n",
       "      <td>30024676.0</td>\n",
       "    </tr>\n",
       "    <tr>\n",
       "      <th>3</th>\n",
       "      <td>01.04.2015</td>\n",
       "      <td>1.881458e+07</td>\n",
       "      <td>15227.0</td>\n",
       "      <td>1235.606705</td>\n",
       "      <td>30024676.0</td>\n",
       "    </tr>\n",
       "    <tr>\n",
       "      <th>4</th>\n",
       "      <td>01.05.2015</td>\n",
       "      <td>1.402148e+07</td>\n",
       "      <td>8620.0</td>\n",
       "      <td>1626.621765</td>\n",
       "      <td>30024676.0</td>\n",
       "    </tr>\n",
       "  </tbody>\n",
       "</table>\n",
       "</div>"
      ],
      "text/plain": [
       "       Period       Revenue  Sales_quantity  Average_cost  \\\n",
       "0  01.01.2015  1.601007e+07         12729.0   1257.763541   \n",
       "1  01.02.2015  1.580759e+07         11636.0   1358.507000   \n",
       "2  01.03.2015  2.204715e+07         15922.0   1384.697024   \n",
       "3  01.04.2015  1.881458e+07         15227.0   1235.606705   \n",
       "4  01.05.2015  1.402148e+07          8620.0   1626.621765   \n",
       "\n",
       "   The_average_annual_payroll_of_the_region  \n",
       "0                                30024676.0  \n",
       "1                                30024676.0  \n",
       "2                                30024676.0  \n",
       "3                                30024676.0  \n",
       "4                                30024676.0  "
      ]
     },
     "execution_count": 4,
     "metadata": {},
     "output_type": "execute_result"
    }
   ],
   "source": [
    "df.head()"
   ]
  },
  {
   "cell_type": "code",
   "execution_count": 5,
   "id": "9c52dd83-472d-4589-8adb-6021da51af21",
   "metadata": {},
   "outputs": [
    {
     "data": {
      "text/html": [
       "<div>\n",
       "<style scoped>\n",
       "    .dataframe tbody tr th:only-of-type {\n",
       "        vertical-align: middle;\n",
       "    }\n",
       "\n",
       "    .dataframe tbody tr th {\n",
       "        vertical-align: top;\n",
       "    }\n",
       "\n",
       "    .dataframe thead th {\n",
       "        text-align: right;\n",
       "    }\n",
       "</style>\n",
       "<table border=\"1\" class=\"dataframe\">\n",
       "  <thead>\n",
       "    <tr style=\"text-align: right;\">\n",
       "      <th></th>\n",
       "      <th>Period</th>\n",
       "      <th>Revenue</th>\n",
       "      <th>Sales_quantity</th>\n",
       "      <th>Average_cost</th>\n",
       "      <th>The_average_annual_payroll_of_the_region</th>\n",
       "    </tr>\n",
       "  </thead>\n",
       "  <tbody>\n",
       "    <tr>\n",
       "      <th>91</th>\n",
       "      <td>01.08.2022</td>\n",
       "      <td>NaN</td>\n",
       "      <td>NaN</td>\n",
       "      <td>NaN</td>\n",
       "      <td>NaN</td>\n",
       "    </tr>\n",
       "    <tr>\n",
       "      <th>92</th>\n",
       "      <td>01.09.2022</td>\n",
       "      <td>NaN</td>\n",
       "      <td>NaN</td>\n",
       "      <td>NaN</td>\n",
       "      <td>NaN</td>\n",
       "    </tr>\n",
       "    <tr>\n",
       "      <th>93</th>\n",
       "      <td>01.10.2022</td>\n",
       "      <td>NaN</td>\n",
       "      <td>NaN</td>\n",
       "      <td>NaN</td>\n",
       "      <td>NaN</td>\n",
       "    </tr>\n",
       "    <tr>\n",
       "      <th>94</th>\n",
       "      <td>01.11.2022</td>\n",
       "      <td>NaN</td>\n",
       "      <td>NaN</td>\n",
       "      <td>NaN</td>\n",
       "      <td>NaN</td>\n",
       "    </tr>\n",
       "    <tr>\n",
       "      <th>95</th>\n",
       "      <td>01.12.2022</td>\n",
       "      <td>NaN</td>\n",
       "      <td>NaN</td>\n",
       "      <td>NaN</td>\n",
       "      <td>NaN</td>\n",
       "    </tr>\n",
       "  </tbody>\n",
       "</table>\n",
       "</div>"
      ],
      "text/plain": [
       "        Period  Revenue  Sales_quantity  Average_cost  \\\n",
       "91  01.08.2022      NaN             NaN           NaN   \n",
       "92  01.09.2022      NaN             NaN           NaN   \n",
       "93  01.10.2022      NaN             NaN           NaN   \n",
       "94  01.11.2022      NaN             NaN           NaN   \n",
       "95  01.12.2022      NaN             NaN           NaN   \n",
       "\n",
       "    The_average_annual_payroll_of_the_region  \n",
       "91                                       NaN  \n",
       "92                                       NaN  \n",
       "93                                       NaN  \n",
       "94                                       NaN  \n",
       "95                                       NaN  "
      ]
     },
     "execution_count": 5,
     "metadata": {},
     "output_type": "execute_result"
    }
   ],
   "source": [
    "df.tail()"
   ]
  },
  {
   "cell_type": "markdown",
   "id": "f9986ca7-57b1-44c6-9580-80d69036bcb2",
   "metadata": {},
   "source": [
    "## 2. Удаление пропусков и дубликатов"
   ]
  },
  {
   "cell_type": "code",
   "execution_count": 6,
   "id": "203e1c90-f4c7-4c5e-af08-146e0f22f3d9",
   "metadata": {},
   "outputs": [],
   "source": [
    "df_clean_1 = df.dropna() # удаляет пустые строки\n",
    "df_clean_2 = df_clean_1.drop_duplicates() # удаляет строки дубли"
   ]
  },
  {
   "cell_type": "code",
   "execution_count": 7,
   "id": "f0afe2ff-3884-4f16-8f5d-95a25375921e",
   "metadata": {},
   "outputs": [
    {
     "data": {
      "text/html": [
       "<div>\n",
       "<style scoped>\n",
       "    .dataframe tbody tr th:only-of-type {\n",
       "        vertical-align: middle;\n",
       "    }\n",
       "\n",
       "    .dataframe tbody tr th {\n",
       "        vertical-align: top;\n",
       "    }\n",
       "\n",
       "    .dataframe thead th {\n",
       "        text-align: right;\n",
       "    }\n",
       "</style>\n",
       "<table border=\"1\" class=\"dataframe\">\n",
       "  <thead>\n",
       "    <tr style=\"text-align: right;\">\n",
       "      <th></th>\n",
       "      <th>Period</th>\n",
       "      <th>Revenue</th>\n",
       "      <th>Sales_quantity</th>\n",
       "      <th>Average_cost</th>\n",
       "      <th>The_average_annual_payroll_of_the_region</th>\n",
       "    </tr>\n",
       "  </thead>\n",
       "  <tbody>\n",
       "    <tr>\n",
       "      <th>0</th>\n",
       "      <td>01.01.2015</td>\n",
       "      <td>1.601007e+07</td>\n",
       "      <td>12729.0</td>\n",
       "      <td>1257.763541</td>\n",
       "      <td>30024676.0</td>\n",
       "    </tr>\n",
       "    <tr>\n",
       "      <th>1</th>\n",
       "      <td>01.02.2015</td>\n",
       "      <td>1.580759e+07</td>\n",
       "      <td>11636.0</td>\n",
       "      <td>1358.507000</td>\n",
       "      <td>30024676.0</td>\n",
       "    </tr>\n",
       "    <tr>\n",
       "      <th>2</th>\n",
       "      <td>01.03.2015</td>\n",
       "      <td>2.204715e+07</td>\n",
       "      <td>15922.0</td>\n",
       "      <td>1384.697024</td>\n",
       "      <td>30024676.0</td>\n",
       "    </tr>\n",
       "    <tr>\n",
       "      <th>3</th>\n",
       "      <td>01.04.2015</td>\n",
       "      <td>1.881458e+07</td>\n",
       "      <td>15227.0</td>\n",
       "      <td>1235.606705</td>\n",
       "      <td>30024676.0</td>\n",
       "    </tr>\n",
       "    <tr>\n",
       "      <th>4</th>\n",
       "      <td>01.05.2015</td>\n",
       "      <td>1.402148e+07</td>\n",
       "      <td>8620.0</td>\n",
       "      <td>1626.621765</td>\n",
       "      <td>30024676.0</td>\n",
       "    </tr>\n",
       "    <tr>\n",
       "      <th>...</th>\n",
       "      <td>...</td>\n",
       "      <td>...</td>\n",
       "      <td>...</td>\n",
       "      <td>...</td>\n",
       "      <td>...</td>\n",
       "    </tr>\n",
       "    <tr>\n",
       "      <th>59</th>\n",
       "      <td>01.12.2019</td>\n",
       "      <td>5.875647e+07</td>\n",
       "      <td>38069.0</td>\n",
       "      <td>1543.420464</td>\n",
       "      <td>29878525.0</td>\n",
       "    </tr>\n",
       "    <tr>\n",
       "      <th>60</th>\n",
       "      <td>01.01.2020</td>\n",
       "      <td>5.628830e+07</td>\n",
       "      <td>27184.0</td>\n",
       "      <td>2070.640850</td>\n",
       "      <td>29044998.0</td>\n",
       "    </tr>\n",
       "    <tr>\n",
       "      <th>61</th>\n",
       "      <td>01.02.2020</td>\n",
       "      <td>4.022524e+07</td>\n",
       "      <td>23509.0</td>\n",
       "      <td>1711.057181</td>\n",
       "      <td>29044998.0</td>\n",
       "    </tr>\n",
       "    <tr>\n",
       "      <th>62</th>\n",
       "      <td>01.03.2020</td>\n",
       "      <td>5.002217e+07</td>\n",
       "      <td>32569.0</td>\n",
       "      <td>1535.882748</td>\n",
       "      <td>29044998.0</td>\n",
       "    </tr>\n",
       "    <tr>\n",
       "      <th>63</th>\n",
       "      <td>01.04.2020</td>\n",
       "      <td>5.232069e+07</td>\n",
       "      <td>26615.0</td>\n",
       "      <td>1965.834790</td>\n",
       "      <td>29044998.0</td>\n",
       "    </tr>\n",
       "  </tbody>\n",
       "</table>\n",
       "<p>64 rows × 5 columns</p>\n",
       "</div>"
      ],
      "text/plain": [
       "        Period       Revenue  Sales_quantity  Average_cost  \\\n",
       "0   01.01.2015  1.601007e+07         12729.0   1257.763541   \n",
       "1   01.02.2015  1.580759e+07         11636.0   1358.507000   \n",
       "2   01.03.2015  2.204715e+07         15922.0   1384.697024   \n",
       "3   01.04.2015  1.881458e+07         15227.0   1235.606705   \n",
       "4   01.05.2015  1.402148e+07          8620.0   1626.621765   \n",
       "..         ...           ...             ...           ...   \n",
       "59  01.12.2019  5.875647e+07         38069.0   1543.420464   \n",
       "60  01.01.2020  5.628830e+07         27184.0   2070.640850   \n",
       "61  01.02.2020  4.022524e+07         23509.0   1711.057181   \n",
       "62  01.03.2020  5.002217e+07         32569.0   1535.882748   \n",
       "63  01.04.2020  5.232069e+07         26615.0   1965.834790   \n",
       "\n",
       "    The_average_annual_payroll_of_the_region  \n",
       "0                                 30024676.0  \n",
       "1                                 30024676.0  \n",
       "2                                 30024676.0  \n",
       "3                                 30024676.0  \n",
       "4                                 30024676.0  \n",
       "..                                       ...  \n",
       "59                                29878525.0  \n",
       "60                                29044998.0  \n",
       "61                                29044998.0  \n",
       "62                                29044998.0  \n",
       "63                                29044998.0  \n",
       "\n",
       "[64 rows x 5 columns]"
      ]
     },
     "execution_count": 7,
     "metadata": {},
     "output_type": "execute_result"
    }
   ],
   "source": [
    "df_clean_2"
   ]
  },
  {
   "cell_type": "markdown",
   "id": "2be4007e-ff24-4da1-812e-b1909d0b2809",
   "metadata": {},
   "source": [
    "## 3. Удаление выбросов с помощью ML-метода Isolation Forest"
   ]
  },
  {
   "cell_type": "code",
   "execution_count": 8,
   "id": "29c64aed-0a00-40b1-a054-4bf783446fcf",
   "metadata": {},
   "outputs": [],
   "source": [
    "# создание метода\n",
    "if_forecast = IsolationForest(contamination=0.02, random_state=16) # перв. переменная указывает на долю выбросов в данных, \n",
    "                                                                   # а вторая для сохранения повторяемости результата\n",
    "df_clean_2['Result_emissions'] = if_forecast.fit_predict(df_clean_2[['Revenue']]) # если будет выброос, то результат запищется в новый столбец Result_emissions  \n",
    "                                                                     # выброс = -1, не выброс = 1\n",
    "\n"
   ]
  },
  {
   "cell_type": "code",
   "execution_count": 9,
   "id": "56c2311c-b579-4095-88d8-75931fc88e00",
   "metadata": {},
   "outputs": [
    {
     "data": {
      "text/html": [
       "<div>\n",
       "<style scoped>\n",
       "    .dataframe tbody tr th:only-of-type {\n",
       "        vertical-align: middle;\n",
       "    }\n",
       "\n",
       "    .dataframe tbody tr th {\n",
       "        vertical-align: top;\n",
       "    }\n",
       "\n",
       "    .dataframe thead th {\n",
       "        text-align: right;\n",
       "    }\n",
       "</style>\n",
       "<table border=\"1\" class=\"dataframe\">\n",
       "  <thead>\n",
       "    <tr style=\"text-align: right;\">\n",
       "      <th></th>\n",
       "      <th>Period</th>\n",
       "      <th>Revenue</th>\n",
       "      <th>Sales_quantity</th>\n",
       "      <th>Average_cost</th>\n",
       "      <th>The_average_annual_payroll_of_the_region</th>\n",
       "      <th>Result_emissions</th>\n",
       "    </tr>\n",
       "  </thead>\n",
       "  <tbody>\n",
       "    <tr>\n",
       "      <th>0</th>\n",
       "      <td>01.01.2015</td>\n",
       "      <td>1.601007e+07</td>\n",
       "      <td>12729.0</td>\n",
       "      <td>1257.763541</td>\n",
       "      <td>30024676.0</td>\n",
       "      <td>1</td>\n",
       "    </tr>\n",
       "    <tr>\n",
       "      <th>1</th>\n",
       "      <td>01.02.2015</td>\n",
       "      <td>1.580759e+07</td>\n",
       "      <td>11636.0</td>\n",
       "      <td>1358.507000</td>\n",
       "      <td>30024676.0</td>\n",
       "      <td>1</td>\n",
       "    </tr>\n",
       "    <tr>\n",
       "      <th>2</th>\n",
       "      <td>01.03.2015</td>\n",
       "      <td>2.204715e+07</td>\n",
       "      <td>15922.0</td>\n",
       "      <td>1384.697024</td>\n",
       "      <td>30024676.0</td>\n",
       "      <td>1</td>\n",
       "    </tr>\n",
       "    <tr>\n",
       "      <th>3</th>\n",
       "      <td>01.04.2015</td>\n",
       "      <td>1.881458e+07</td>\n",
       "      <td>15227.0</td>\n",
       "      <td>1235.606705</td>\n",
       "      <td>30024676.0</td>\n",
       "      <td>1</td>\n",
       "    </tr>\n",
       "    <tr>\n",
       "      <th>4</th>\n",
       "      <td>01.05.2015</td>\n",
       "      <td>1.402148e+07</td>\n",
       "      <td>8620.0</td>\n",
       "      <td>1626.621765</td>\n",
       "      <td>30024676.0</td>\n",
       "      <td>-1</td>\n",
       "    </tr>\n",
       "    <tr>\n",
       "      <th>...</th>\n",
       "      <td>...</td>\n",
       "      <td>...</td>\n",
       "      <td>...</td>\n",
       "      <td>...</td>\n",
       "      <td>...</td>\n",
       "      <td>...</td>\n",
       "    </tr>\n",
       "    <tr>\n",
       "      <th>59</th>\n",
       "      <td>01.12.2019</td>\n",
       "      <td>5.875647e+07</td>\n",
       "      <td>38069.0</td>\n",
       "      <td>1543.420464</td>\n",
       "      <td>29878525.0</td>\n",
       "      <td>-1</td>\n",
       "    </tr>\n",
       "    <tr>\n",
       "      <th>60</th>\n",
       "      <td>01.01.2020</td>\n",
       "      <td>5.628830e+07</td>\n",
       "      <td>27184.0</td>\n",
       "      <td>2070.640850</td>\n",
       "      <td>29044998.0</td>\n",
       "      <td>1</td>\n",
       "    </tr>\n",
       "    <tr>\n",
       "      <th>61</th>\n",
       "      <td>01.02.2020</td>\n",
       "      <td>4.022524e+07</td>\n",
       "      <td>23509.0</td>\n",
       "      <td>1711.057181</td>\n",
       "      <td>29044998.0</td>\n",
       "      <td>1</td>\n",
       "    </tr>\n",
       "    <tr>\n",
       "      <th>62</th>\n",
       "      <td>01.03.2020</td>\n",
       "      <td>5.002217e+07</td>\n",
       "      <td>32569.0</td>\n",
       "      <td>1535.882748</td>\n",
       "      <td>29044998.0</td>\n",
       "      <td>1</td>\n",
       "    </tr>\n",
       "    <tr>\n",
       "      <th>63</th>\n",
       "      <td>01.04.2020</td>\n",
       "      <td>5.232069e+07</td>\n",
       "      <td>26615.0</td>\n",
       "      <td>1965.834790</td>\n",
       "      <td>29044998.0</td>\n",
       "      <td>1</td>\n",
       "    </tr>\n",
       "  </tbody>\n",
       "</table>\n",
       "<p>64 rows × 6 columns</p>\n",
       "</div>"
      ],
      "text/plain": [
       "        Period       Revenue  Sales_quantity  Average_cost  \\\n",
       "0   01.01.2015  1.601007e+07         12729.0   1257.763541   \n",
       "1   01.02.2015  1.580759e+07         11636.0   1358.507000   \n",
       "2   01.03.2015  2.204715e+07         15922.0   1384.697024   \n",
       "3   01.04.2015  1.881458e+07         15227.0   1235.606705   \n",
       "4   01.05.2015  1.402148e+07          8620.0   1626.621765   \n",
       "..         ...           ...             ...           ...   \n",
       "59  01.12.2019  5.875647e+07         38069.0   1543.420464   \n",
       "60  01.01.2020  5.628830e+07         27184.0   2070.640850   \n",
       "61  01.02.2020  4.022524e+07         23509.0   1711.057181   \n",
       "62  01.03.2020  5.002217e+07         32569.0   1535.882748   \n",
       "63  01.04.2020  5.232069e+07         26615.0   1965.834790   \n",
       "\n",
       "    The_average_annual_payroll_of_the_region  Result_emissions  \n",
       "0                                 30024676.0                 1  \n",
       "1                                 30024676.0                 1  \n",
       "2                                 30024676.0                 1  \n",
       "3                                 30024676.0                 1  \n",
       "4                                 30024676.0                -1  \n",
       "..                                       ...               ...  \n",
       "59                                29878525.0                -1  \n",
       "60                                29044998.0                 1  \n",
       "61                                29044998.0                 1  \n",
       "62                                29044998.0                 1  \n",
       "63                                29044998.0                 1  \n",
       "\n",
       "[64 rows x 6 columns]"
      ]
     },
     "execution_count": 9,
     "metadata": {},
     "output_type": "execute_result"
    }
   ],
   "source": [
    "df_clean_2"
   ]
  },
  {
   "cell_type": "code",
   "execution_count": 10,
   "id": "28733e8c-a8dd-4b70-9cfd-856b7f02620f",
   "metadata": {},
   "outputs": [],
   "source": [
    "df_clean_3 = df_clean_2[df_clean_2['Result_emissions'] == 1].drop(columns=['Result_emissions']) # оставляём строки с 1 и убираем новый столбец"
   ]
  },
  {
   "cell_type": "code",
   "execution_count": 11,
   "id": "8601b29b-f540-44f4-87ae-d4f1a9f4b0f2",
   "metadata": {},
   "outputs": [
    {
     "data": {
      "text/html": [
       "<div>\n",
       "<style scoped>\n",
       "    .dataframe tbody tr th:only-of-type {\n",
       "        vertical-align: middle;\n",
       "    }\n",
       "\n",
       "    .dataframe tbody tr th {\n",
       "        vertical-align: top;\n",
       "    }\n",
       "\n",
       "    .dataframe thead th {\n",
       "        text-align: right;\n",
       "    }\n",
       "</style>\n",
       "<table border=\"1\" class=\"dataframe\">\n",
       "  <thead>\n",
       "    <tr style=\"text-align: right;\">\n",
       "      <th></th>\n",
       "      <th>Period</th>\n",
       "      <th>Revenue</th>\n",
       "      <th>Sales_quantity</th>\n",
       "      <th>Average_cost</th>\n",
       "      <th>The_average_annual_payroll_of_the_region</th>\n",
       "    </tr>\n",
       "  </thead>\n",
       "  <tbody>\n",
       "    <tr>\n",
       "      <th>0</th>\n",
       "      <td>01.01.2015</td>\n",
       "      <td>1.601007e+07</td>\n",
       "      <td>12729.0</td>\n",
       "      <td>1257.763541</td>\n",
       "      <td>30024676.0</td>\n",
       "    </tr>\n",
       "    <tr>\n",
       "      <th>1</th>\n",
       "      <td>01.02.2015</td>\n",
       "      <td>1.580759e+07</td>\n",
       "      <td>11636.0</td>\n",
       "      <td>1358.507000</td>\n",
       "      <td>30024676.0</td>\n",
       "    </tr>\n",
       "    <tr>\n",
       "      <th>2</th>\n",
       "      <td>01.03.2015</td>\n",
       "      <td>2.204715e+07</td>\n",
       "      <td>15922.0</td>\n",
       "      <td>1384.697024</td>\n",
       "      <td>30024676.0</td>\n",
       "    </tr>\n",
       "    <tr>\n",
       "      <th>3</th>\n",
       "      <td>01.04.2015</td>\n",
       "      <td>1.881458e+07</td>\n",
       "      <td>15227.0</td>\n",
       "      <td>1235.606705</td>\n",
       "      <td>30024676.0</td>\n",
       "    </tr>\n",
       "    <tr>\n",
       "      <th>5</th>\n",
       "      <td>01.06.2015</td>\n",
       "      <td>1.678393e+07</td>\n",
       "      <td>13160.0</td>\n",
       "      <td>1275.374508</td>\n",
       "      <td>30024676.0</td>\n",
       "    </tr>\n",
       "    <tr>\n",
       "      <th>...</th>\n",
       "      <td>...</td>\n",
       "      <td>...</td>\n",
       "      <td>...</td>\n",
       "      <td>...</td>\n",
       "      <td>...</td>\n",
       "    </tr>\n",
       "    <tr>\n",
       "      <th>58</th>\n",
       "      <td>01.11.2019</td>\n",
       "      <td>3.637496e+07</td>\n",
       "      <td>21987.0</td>\n",
       "      <td>1654.384704</td>\n",
       "      <td>29878525.0</td>\n",
       "    </tr>\n",
       "    <tr>\n",
       "      <th>60</th>\n",
       "      <td>01.01.2020</td>\n",
       "      <td>5.628830e+07</td>\n",
       "      <td>27184.0</td>\n",
       "      <td>2070.640850</td>\n",
       "      <td>29044998.0</td>\n",
       "    </tr>\n",
       "    <tr>\n",
       "      <th>61</th>\n",
       "      <td>01.02.2020</td>\n",
       "      <td>4.022524e+07</td>\n",
       "      <td>23509.0</td>\n",
       "      <td>1711.057181</td>\n",
       "      <td>29044998.0</td>\n",
       "    </tr>\n",
       "    <tr>\n",
       "      <th>62</th>\n",
       "      <td>01.03.2020</td>\n",
       "      <td>5.002217e+07</td>\n",
       "      <td>32569.0</td>\n",
       "      <td>1535.882748</td>\n",
       "      <td>29044998.0</td>\n",
       "    </tr>\n",
       "    <tr>\n",
       "      <th>63</th>\n",
       "      <td>01.04.2020</td>\n",
       "      <td>5.232069e+07</td>\n",
       "      <td>26615.0</td>\n",
       "      <td>1965.834790</td>\n",
       "      <td>29044998.0</td>\n",
       "    </tr>\n",
       "  </tbody>\n",
       "</table>\n",
       "<p>62 rows × 5 columns</p>\n",
       "</div>"
      ],
      "text/plain": [
       "        Period       Revenue  Sales_quantity  Average_cost  \\\n",
       "0   01.01.2015  1.601007e+07         12729.0   1257.763541   \n",
       "1   01.02.2015  1.580759e+07         11636.0   1358.507000   \n",
       "2   01.03.2015  2.204715e+07         15922.0   1384.697024   \n",
       "3   01.04.2015  1.881458e+07         15227.0   1235.606705   \n",
       "5   01.06.2015  1.678393e+07         13160.0   1275.374508   \n",
       "..         ...           ...             ...           ...   \n",
       "58  01.11.2019  3.637496e+07         21987.0   1654.384704   \n",
       "60  01.01.2020  5.628830e+07         27184.0   2070.640850   \n",
       "61  01.02.2020  4.022524e+07         23509.0   1711.057181   \n",
       "62  01.03.2020  5.002217e+07         32569.0   1535.882748   \n",
       "63  01.04.2020  5.232069e+07         26615.0   1965.834790   \n",
       "\n",
       "    The_average_annual_payroll_of_the_region  \n",
       "0                                 30024676.0  \n",
       "1                                 30024676.0  \n",
       "2                                 30024676.0  \n",
       "3                                 30024676.0  \n",
       "5                                 30024676.0  \n",
       "..                                       ...  \n",
       "58                                29878525.0  \n",
       "60                                29044998.0  \n",
       "61                                29044998.0  \n",
       "62                                29044998.0  \n",
       "63                                29044998.0  \n",
       "\n",
       "[62 rows x 5 columns]"
      ]
     },
     "execution_count": 11,
     "metadata": {},
     "output_type": "execute_result"
    }
   ],
   "source": [
    "df_clean_3"
   ]
  },
  {
   "cell_type": "markdown",
   "id": "6bdbf2fb-55b7-46f1-a53e-ffeb3b87ba0e",
   "metadata": {},
   "source": [
    "## 4. Отсев ненужных данных"
   ]
  },
  {
   "cell_type": "code",
   "execution_count": 12,
   "id": "5e652d1d-1ec2-47b8-a8f0-c920dc05276f",
   "metadata": {},
   "outputs": [],
   "source": [
    "df_halffinal = df_clean_3[['Period', 'Revenue']]"
   ]
  },
  {
   "cell_type": "code",
   "execution_count": 13,
   "id": "e99adb2d-decb-46ec-9c50-2d8f449a50ff",
   "metadata": {},
   "outputs": [
    {
     "data": {
      "text/html": [
       "<div>\n",
       "<style scoped>\n",
       "    .dataframe tbody tr th:only-of-type {\n",
       "        vertical-align: middle;\n",
       "    }\n",
       "\n",
       "    .dataframe tbody tr th {\n",
       "        vertical-align: top;\n",
       "    }\n",
       "\n",
       "    .dataframe thead th {\n",
       "        text-align: right;\n",
       "    }\n",
       "</style>\n",
       "<table border=\"1\" class=\"dataframe\">\n",
       "  <thead>\n",
       "    <tr style=\"text-align: right;\">\n",
       "      <th></th>\n",
       "      <th>Period</th>\n",
       "      <th>Revenue</th>\n",
       "    </tr>\n",
       "  </thead>\n",
       "  <tbody>\n",
       "    <tr>\n",
       "      <th>0</th>\n",
       "      <td>01.01.2015</td>\n",
       "      <td>1.601007e+07</td>\n",
       "    </tr>\n",
       "    <tr>\n",
       "      <th>1</th>\n",
       "      <td>01.02.2015</td>\n",
       "      <td>1.580759e+07</td>\n",
       "    </tr>\n",
       "    <tr>\n",
       "      <th>2</th>\n",
       "      <td>01.03.2015</td>\n",
       "      <td>2.204715e+07</td>\n",
       "    </tr>\n",
       "    <tr>\n",
       "      <th>3</th>\n",
       "      <td>01.04.2015</td>\n",
       "      <td>1.881458e+07</td>\n",
       "    </tr>\n",
       "    <tr>\n",
       "      <th>5</th>\n",
       "      <td>01.06.2015</td>\n",
       "      <td>1.678393e+07</td>\n",
       "    </tr>\n",
       "    <tr>\n",
       "      <th>...</th>\n",
       "      <td>...</td>\n",
       "      <td>...</td>\n",
       "    </tr>\n",
       "    <tr>\n",
       "      <th>58</th>\n",
       "      <td>01.11.2019</td>\n",
       "      <td>3.637496e+07</td>\n",
       "    </tr>\n",
       "    <tr>\n",
       "      <th>60</th>\n",
       "      <td>01.01.2020</td>\n",
       "      <td>5.628830e+07</td>\n",
       "    </tr>\n",
       "    <tr>\n",
       "      <th>61</th>\n",
       "      <td>01.02.2020</td>\n",
       "      <td>4.022524e+07</td>\n",
       "    </tr>\n",
       "    <tr>\n",
       "      <th>62</th>\n",
       "      <td>01.03.2020</td>\n",
       "      <td>5.002217e+07</td>\n",
       "    </tr>\n",
       "    <tr>\n",
       "      <th>63</th>\n",
       "      <td>01.04.2020</td>\n",
       "      <td>5.232069e+07</td>\n",
       "    </tr>\n",
       "  </tbody>\n",
       "</table>\n",
       "<p>62 rows × 2 columns</p>\n",
       "</div>"
      ],
      "text/plain": [
       "        Period       Revenue\n",
       "0   01.01.2015  1.601007e+07\n",
       "1   01.02.2015  1.580759e+07\n",
       "2   01.03.2015  2.204715e+07\n",
       "3   01.04.2015  1.881458e+07\n",
       "5   01.06.2015  1.678393e+07\n",
       "..         ...           ...\n",
       "58  01.11.2019  3.637496e+07\n",
       "60  01.01.2020  5.628830e+07\n",
       "61  01.02.2020  4.022524e+07\n",
       "62  01.03.2020  5.002217e+07\n",
       "63  01.04.2020  5.232069e+07\n",
       "\n",
       "[62 rows x 2 columns]"
      ]
     },
     "execution_count": 13,
     "metadata": {},
     "output_type": "execute_result"
    }
   ],
   "source": [
    "df_halffinal"
   ]
  },
  {
   "cell_type": "markdown",
   "id": "bb20ba91-d8c2-4641-887a-5a64f0ebf440",
   "metadata": {},
   "source": [
    "## 5. Форматирование данных"
   ]
  },
  {
   "cell_type": "code",
   "execution_count": 14,
   "id": "3812fb3b-614c-4574-9141-17b0203d89c4",
   "metadata": {},
   "outputs": [],
   "source": [
    "df_final = df_halffinal.copy()\n",
    "\n",
    "# изменяем тип данных у столбца Period на datatime\n",
    "df_final['Period'] = pd.to_datetime(df_final['Period'], format='%d.%m.%Y')\n",
    "\n",
    "# делаем столбец Period индексом\n",
    "df_final.set_index('Period', inplace=True)"
   ]
  },
  {
   "cell_type": "code",
   "execution_count": 15,
   "id": "cef8d778-da79-4e15-be1a-ccd9b5b71ee9",
   "metadata": {},
   "outputs": [
    {
     "data": {
      "text/html": [
       "<div>\n",
       "<style scoped>\n",
       "    .dataframe tbody tr th:only-of-type {\n",
       "        vertical-align: middle;\n",
       "    }\n",
       "\n",
       "    .dataframe tbody tr th {\n",
       "        vertical-align: top;\n",
       "    }\n",
       "\n",
       "    .dataframe thead th {\n",
       "        text-align: right;\n",
       "    }\n",
       "</style>\n",
       "<table border=\"1\" class=\"dataframe\">\n",
       "  <thead>\n",
       "    <tr style=\"text-align: right;\">\n",
       "      <th></th>\n",
       "      <th>Revenue</th>\n",
       "    </tr>\n",
       "    <tr>\n",
       "      <th>Period</th>\n",
       "      <th></th>\n",
       "    </tr>\n",
       "  </thead>\n",
       "  <tbody>\n",
       "    <tr>\n",
       "      <th>2015-01-01</th>\n",
       "      <td>1.601007e+07</td>\n",
       "    </tr>\n",
       "    <tr>\n",
       "      <th>2015-02-01</th>\n",
       "      <td>1.580759e+07</td>\n",
       "    </tr>\n",
       "    <tr>\n",
       "      <th>2015-03-01</th>\n",
       "      <td>2.204715e+07</td>\n",
       "    </tr>\n",
       "    <tr>\n",
       "      <th>2015-04-01</th>\n",
       "      <td>1.881458e+07</td>\n",
       "    </tr>\n",
       "    <tr>\n",
       "      <th>2015-06-01</th>\n",
       "      <td>1.678393e+07</td>\n",
       "    </tr>\n",
       "    <tr>\n",
       "      <th>...</th>\n",
       "      <td>...</td>\n",
       "    </tr>\n",
       "    <tr>\n",
       "      <th>2019-11-01</th>\n",
       "      <td>3.637496e+07</td>\n",
       "    </tr>\n",
       "    <tr>\n",
       "      <th>2020-01-01</th>\n",
       "      <td>5.628830e+07</td>\n",
       "    </tr>\n",
       "    <tr>\n",
       "      <th>2020-02-01</th>\n",
       "      <td>4.022524e+07</td>\n",
       "    </tr>\n",
       "    <tr>\n",
       "      <th>2020-03-01</th>\n",
       "      <td>5.002217e+07</td>\n",
       "    </tr>\n",
       "    <tr>\n",
       "      <th>2020-04-01</th>\n",
       "      <td>5.232069e+07</td>\n",
       "    </tr>\n",
       "  </tbody>\n",
       "</table>\n",
       "<p>62 rows × 1 columns</p>\n",
       "</div>"
      ],
      "text/plain": [
       "                 Revenue\n",
       "Period                  \n",
       "2015-01-01  1.601007e+07\n",
       "2015-02-01  1.580759e+07\n",
       "2015-03-01  2.204715e+07\n",
       "2015-04-01  1.881458e+07\n",
       "2015-06-01  1.678393e+07\n",
       "...                  ...\n",
       "2019-11-01  3.637496e+07\n",
       "2020-01-01  5.628830e+07\n",
       "2020-02-01  4.022524e+07\n",
       "2020-03-01  5.002217e+07\n",
       "2020-04-01  5.232069e+07\n",
       "\n",
       "[62 rows x 1 columns]"
      ]
     },
     "execution_count": 15,
     "metadata": {},
     "output_type": "execute_result"
    }
   ],
   "source": [
    "df_final"
   ]
  },
  {
   "cell_type": "markdown",
   "id": "8b87a8cd-6030-4d9a-a129-043d8f10ea02",
   "metadata": {},
   "source": [
    "## 6. График временного ряда "
   ]
  },
  {
   "cell_type": "code",
   "execution_count": 16,
   "id": "035a223e-ec7f-41d0-a35a-b300d3af2620",
   "metadata": {},
   "outputs": [
    {
     "data": {
      "text/plain": [
       "<Figure size 1500x600 with 0 Axes>"
      ]
     },
     "metadata": {},
     "output_type": "display_data"
    },
    {
     "data": {
      "image/png": "[encoded data removed]",
      "text/plain": [
       "<Figure size 1600x400 with 1 Axes>"
      ]
     },
     "metadata": {},
     "output_type": "display_data"
    }
   ],
   "source": [
    "plt.figure(figsize=(15,6))\n",
    "\n",
    "y = df_final.Revenue / 10**6\n",
    "\n",
    "plot_series(y)\n",
    "plt.title('Доходы (млн. $)', fontsize=18)\n",
    "plt.tick_params(axis='both', which='major', labelsize=14)\n",
    "plt.grid(which='major')\n",
    "plt.ylabel('')\n",
    "\n",
    "plt.show()"
   ]
  },
  {
   "cell_type": "markdown",
   "id": "1283d1cc-a387-40d8-9e33-00d7a47dca1f",
   "metadata": {},
   "source": [
    "## 7. Функция проверки качества прогноза с помощью MAPE"
   ]
  },
  {
   "cell_type": "markdown",
   "id": "241a0227-61a0-452c-9bba-14d51ac6aec3",
   "metadata": {},
   "source": [
    "### $$MAPE=\\frac{100}{n}\\sum_{i=1}^{n}\\frac{\\left| y_{i}-\\hat{y}_{i} \\right|}{y_{i}}$$"
   ]
  },
  {
   "cell_type": "markdown",
   "id": "4a2ebca7-f5bc-41ff-bdb2-8a2868f9eb3d",
   "metadata": {},
   "source": [
    "### где ${y}_{i} -$ фактические значения,"
   ]
  },
  {
   "cell_type": "markdown",
   "id": "d775edf6-9f5b-42e2-b080-9a0f47231954",
   "metadata": {},
   "source": [
    "### $\\hat{y}_{i}$ - прогнозируемые значения,"
   ]
  },
  {
   "cell_type": "markdown",
   "id": "acae868d-9fd9-4dcd-924d-e4f1f4d7db5f",
   "metadata": {},
   "source": [
    "### $n$ - кол-во наблюдений"
   ]
  },
  {
   "cell_type": "code",
   "execution_count": 17,
   "id": "171a3d2c-16ff-49d0-8ff6-e33c3e55622a",
   "metadata": {},
   "outputs": [],
   "source": [
    "def mape(y_fact, y_forecast):\n",
    "    return np.mean(np.abs((y_fact - y_forecast) / y_fact)) * 100"
   ]
  },
  {
   "cell_type": "markdown",
   "id": "af2ea907-870e-4b81-afa7-2bb7130303b5",
   "metadata": {},
   "source": [
    "## 8. Разбиение данных на обучение и контроль "
   ]
  },
  {
   "cell_type": "code",
   "execution_count": 18,
   "id": "5a64ed4e-ffa8-4532-94a7-239582c64135",
   "metadata": {},
   "outputs": [
    {
     "name": "stdout",
     "output_type": "stream",
     "text": [
      "46 16\n"
     ]
    },
    {
     "data": {
      "image/png": "[encoded data removed]",
      "text/plain": [
       "<Figure size 1600x400 with 1 Axes>"
      ]
     },
     "metadata": {},
     "output_type": "display_data"
    }
   ],
   "source": [
    "from sktime.forecasting.model_selection import temporal_train_test_split\n",
    "\n",
    "y_train, y_test = temporal_train_test_split(y, test_size=16)\n",
    "plot_series(y_train, y_test, labels=[\"y_train\",\"y_test\"])\n",
    "print(y_train.shape[0], y_test.shape[0])"
   ]
  },
  {
   "cell_type": "markdown",
   "id": "97883864-883c-4dbe-b3ac-52ad4401b74d",
   "metadata": {},
   "source": [
    "#### Чтобы прогнозы корректно индексировались, заведём отдельную переменную с индексами-датами"
   ]
  },
  {
   "cell_type": "code",
   "execution_count": 19,
   "id": "6736c0d1-113e-49bf-9495-889a4b021040",
   "metadata": {},
   "outputs": [
    {
     "data": {
      "text/plain": [
       "ForecastingHorizon(['2018-12-01', '2019-01-01', '2019-02-01', '2019-03-01',\n",
       "               '2019-04-01', '2019-05-01', '2019-06-01', '2019-07-01',\n",
       "               '2019-08-01', '2019-09-01', '2019-10-01', '2019-11-01',\n",
       "               '2020-01-01', '2020-02-01', '2020-03-01', '2020-04-01'],\n",
       "              dtype='datetime64[ns]', freq=None, is_relative=False)"
      ]
     },
     "execution_count": 19,
     "metadata": {},
     "output_type": "execute_result"
    }
   ],
   "source": [
    "from sktime.forecasting.base import ForecastingHorizon\n",
    "k = y_test.to_period(\"M\")\n",
    "ind_date = ForecastingHorizon(y_test.index, is_relative=False)\n",
    "ind_date_ets = ForecastingHorizon(k.index, is_relative=False)\n",
    "ind_date"
   ]
  },
  {
   "cell_type": "code",
   "execution_count": 20,
   "id": "339873e2-e69c-4124-aa2d-9d19afcc8e31",
   "metadata": {},
   "outputs": [
    {
     "data": {
      "text/plain": [
       "ForecastingHorizon(['2018-12', '2019-01', '2019-02', '2019-03', '2019-04', '2019-05',\n",
       "             '2019-06', '2019-07', '2019-08', '2019-09', '2019-10', '2019-11',\n",
       "             '2020-01', '2020-02', '2020-03', '2020-04'],\n",
       "            dtype='period[M]', is_relative=False)"
      ]
     },
     "execution_count": 20,
     "metadata": {},
     "output_type": "execute_result"
    }
   ],
   "source": [
    "ind_date_ets"
   ]
  },
  {
   "cell_type": "markdown",
   "id": "56899c88-ff3e-4b91-bf3b-6928389444f0",
   "metadata": {},
   "source": [
    "## 9. Методы прогнозов и их оценка"
   ]
  },
  {
   "cell_type": "markdown",
   "id": "1438cec0-c5b6-4112-a3ce-358f2b498244",
   "metadata": {},
   "source": [
    "### 9.1 Наивный прогноз"
   ]
  },
  {
   "cell_type": "code",
   "execution_count": 21,
   "id": "4393ac8a-95ba-4323-93be-bb723ca38a6e",
   "metadata": {},
   "outputs": [
    {
     "ename": "NullFrequencyError",
     "evalue": "Cannot shift with no freq",
     "output_type": "error",
     "traceback": [
      "\u001b[1;31m---------------------------------------------------------------------------\u001b[0m",
      "\u001b[1;31mNullFrequencyError\u001b[0m                        Traceback (most recent call last)",
      "Cell \u001b[1;32mIn[21], line 6\u001b[0m\n\u001b[0;32m      3\u001b[0m forecaster \u001b[38;5;241m=\u001b[39m NaiveForecaster(strategy\u001b[38;5;241m=\u001b[39m\u001b[38;5;124m\"\u001b[39m\u001b[38;5;124mlast\u001b[39m\u001b[38;5;124m\"\u001b[39m)\n\u001b[0;32m      4\u001b[0m forecaster\u001b[38;5;241m.\u001b[39mfit(y_train)\n\u001b[1;32m----> 6\u001b[0m y_pred \u001b[38;5;241m=\u001b[39m forecaster\u001b[38;5;241m.\u001b[39mpredict(ind_date)\n\u001b[0;32m      8\u001b[0m plot_series(y_train, y_test, y_pred, \n\u001b[0;32m      9\u001b[0m             labels\u001b[38;5;241m=\u001b[39m[\u001b[38;5;124m\"\u001b[39m\u001b[38;5;124my_train\u001b[39m\u001b[38;5;124m\"\u001b[39m,\u001b[38;5;124m\"\u001b[39m\u001b[38;5;124my_test\u001b[39m\u001b[38;5;124m\"\u001b[39m, \u001b[38;5;124m\"\u001b[39m\u001b[38;5;124my_pred\u001b[39m\u001b[38;5;124m\"\u001b[39m])\n",
      "File \u001b[1;32m~\\AppData\\Roaming\\Python\\Python312\\site-packages\\sktime\\forecasting\\base\\_base.py:457\u001b[0m, in \u001b[0;36mBaseForecaster.predict\u001b[1;34m(self, fh, X)\u001b[0m\n\u001b[0;32m    455\u001b[0m \u001b[38;5;66;03m# we call the ordinary _predict if no looping/vectorization needed\u001b[39;00m\n\u001b[0;32m    456\u001b[0m \u001b[38;5;28;01mif\u001b[39;00m \u001b[38;5;129;01mnot\u001b[39;00m \u001b[38;5;28mself\u001b[39m\u001b[38;5;241m.\u001b[39m_is_vectorized:\n\u001b[1;32m--> 457\u001b[0m     y_pred \u001b[38;5;241m=\u001b[39m \u001b[38;5;28mself\u001b[39m\u001b[38;5;241m.\u001b[39m_predict(fh\u001b[38;5;241m=\u001b[39mfh, X\u001b[38;5;241m=\u001b[39mX_inner)\n\u001b[0;32m    458\u001b[0m \u001b[38;5;28;01melse\u001b[39;00m:\n\u001b[0;32m    459\u001b[0m     \u001b[38;5;66;03m# otherwise we call the vectorized version of predict\u001b[39;00m\n\u001b[0;32m    460\u001b[0m     y_pred \u001b[38;5;241m=\u001b[39m \u001b[38;5;28mself\u001b[39m\u001b[38;5;241m.\u001b[39m_vectorize(\u001b[38;5;124m\"\u001b[39m\u001b[38;5;124mpredict\u001b[39m\u001b[38;5;124m\"\u001b[39m, X\u001b[38;5;241m=\u001b[39mX_inner, fh\u001b[38;5;241m=\u001b[39mfh)\n",
      "File \u001b[1;32m~\\AppData\\Roaming\\Python\\Python312\\site-packages\\sktime\\forecasting\\naive.py:405\u001b[0m, in \u001b[0;36mNaiveForecaster._predict\u001b[1;34m(self, fh, X)\u001b[0m\n\u001b[0;32m    402\u001b[0m NEW_PREDICT \u001b[38;5;241m=\u001b[39m [\u001b[38;5;124m\"\u001b[39m\u001b[38;5;124mlast\u001b[39m\u001b[38;5;124m\"\u001b[39m]\n\u001b[0;32m    404\u001b[0m \u001b[38;5;28;01mif\u001b[39;00m strategy \u001b[38;5;129;01min\u001b[39;00m NEW_PREDICT:\n\u001b[1;32m--> 405\u001b[0m     \u001b[38;5;28;01mreturn\u001b[39;00m \u001b[38;5;28mself\u001b[39m\u001b[38;5;241m.\u001b[39m_predict_naive(fh\u001b[38;5;241m=\u001b[39mfh, X\u001b[38;5;241m=\u001b[39mX)\n\u001b[0;32m    407\u001b[0m y_pred \u001b[38;5;241m=\u001b[39m \u001b[38;5;28msuper\u001b[39m()\u001b[38;5;241m.\u001b[39m_predict(fh\u001b[38;5;241m=\u001b[39mfh, X\u001b[38;5;241m=\u001b[39mX)\n\u001b[0;32m    409\u001b[0m \u001b[38;5;66;03m# test_predict_time_index_in_sample_full[ForecastingPipeline-0-int-int-True]\u001b[39;00m\n\u001b[0;32m    410\u001b[0m \u001b[38;5;66;03m#   causes a pd.DataFrame to appear as y_pred, which upsets the next lines\u001b[39;00m\n\u001b[0;32m    411\u001b[0m \u001b[38;5;66;03m#   reasons are unclear, this is coming from the _BaseWindowForecaster\u001b[39;00m\n\u001b[0;32m    412\u001b[0m \u001b[38;5;66;03m# todo: investigate this\u001b[39;00m\n",
      "File \u001b[1;32m~\\AppData\\Roaming\\Python\\Python312\\site-packages\\sktime\\forecasting\\naive.py:361\u001b[0m, in \u001b[0;36mNaiveForecaster._predict_naive\u001b[1;34m(self, fh, X)\u001b[0m\n\u001b[0;32m    359\u001b[0m expected_index \u001b[38;5;241m=\u001b[39m fh\u001b[38;5;241m.\u001b[39mto_absolute(cutoff)\u001b[38;5;241m.\u001b[39mto_pandas()\n\u001b[0;32m    360\u001b[0m \u001b[38;5;28;01mif\u001b[39;00m strategy \u001b[38;5;241m==\u001b[39m \u001b[38;5;124m\"\u001b[39m\u001b[38;5;124mlast\u001b[39m\u001b[38;5;124m\"\u001b[39m \u001b[38;5;129;01mand\u001b[39;00m sp \u001b[38;5;241m==\u001b[39m \u001b[38;5;241m1\u001b[39m:\n\u001b[1;32m--> 361\u001b[0m     y_old \u001b[38;5;241m=\u001b[39m lagger\u001b[38;5;241m.\u001b[39mfit_transform(_y)\n\u001b[0;32m    362\u001b[0m     y_new \u001b[38;5;241m=\u001b[39m pd\u001b[38;5;241m.\u001b[39mDataFrame(index\u001b[38;5;241m=\u001b[39mexpected_index, columns\u001b[38;5;241m=\u001b[39m[\u001b[38;5;241m0\u001b[39m], dtype\u001b[38;5;241m=\u001b[39m\u001b[38;5;124m\"\u001b[39m\u001b[38;5;124mfloat64\u001b[39m\u001b[38;5;124m\"\u001b[39m)\n\u001b[0;32m    363\u001b[0m     full_y \u001b[38;5;241m=\u001b[39m pd\u001b[38;5;241m.\u001b[39mconcat([y_old, y_new], keys\u001b[38;5;241m=\u001b[39m[\u001b[38;5;124m\"\u001b[39m\u001b[38;5;124ma\u001b[39m\u001b[38;5;124m\"\u001b[39m, \u001b[38;5;124m\"\u001b[39m\u001b[38;5;124mb\u001b[39m\u001b[38;5;124m\"\u001b[39m])\u001b[38;5;241m.\u001b[39msort_index(level\u001b[38;5;241m=\u001b[39m\u001b[38;5;241m-\u001b[39m\u001b[38;5;241m1\u001b[39m)\n",
      "File \u001b[1;32m~\\AppData\\Roaming\\Python\\Python312\\site-packages\\sktime\\transformations\\base.py:718\u001b[0m, in \u001b[0;36mBaseTransformer.fit_transform\u001b[1;34m(self, X, y)\u001b[0m\n\u001b[0;32m    644\u001b[0m \u001b[38;5;250m\u001b[39m\u001b[38;5;124;03m\"\"\"Fit to data, then transform it.\u001b[39;00m\n\u001b[0;32m    645\u001b[0m \n\u001b[0;32m    646\u001b[0m \u001b[38;5;124;03mFits the transformer to X and y and returns a transformed version of X.\u001b[39;00m\n\u001b[1;32m   (...)\u001b[0m\n\u001b[0;32m    714\u001b[0m \u001b[38;5;124;03m        Example: i-th instance of the output is the i-th window running over `X`\u001b[39;00m\n\u001b[0;32m    715\u001b[0m \u001b[38;5;124;03m\"\"\"\u001b[39;00m\n\u001b[0;32m    716\u001b[0m \u001b[38;5;66;03m# Non-optimized default implementation; override when a better\u001b[39;00m\n\u001b[0;32m    717\u001b[0m \u001b[38;5;66;03m# method is possible for a given algorithm.\u001b[39;00m\n\u001b[1;32m--> 718\u001b[0m \u001b[38;5;28;01mreturn\u001b[39;00m \u001b[38;5;28mself\u001b[39m\u001b[38;5;241m.\u001b[39mfit(X, y)\u001b[38;5;241m.\u001b[39mtransform(X, y)\n",
      "File \u001b[1;32m~\\AppData\\Roaming\\Python\\Python312\\site-packages\\sktime\\transformations\\base.py:623\u001b[0m, in \u001b[0;36mBaseTransformer.transform\u001b[1;34m(self, X, y)\u001b[0m\n\u001b[0;32m    621\u001b[0m \u001b[38;5;66;03m# if no vectorization needed, we call _transform directly\u001b[39;00m\n\u001b[0;32m    622\u001b[0m \u001b[38;5;28;01mif\u001b[39;00m \u001b[38;5;129;01mnot\u001b[39;00m vectorization_needed:\n\u001b[1;32m--> 623\u001b[0m     Xt \u001b[38;5;241m=\u001b[39m \u001b[38;5;28mself\u001b[39m\u001b[38;5;241m.\u001b[39m_transform(X\u001b[38;5;241m=\u001b[39mX_inner, y\u001b[38;5;241m=\u001b[39my_inner)\n\u001b[0;32m    624\u001b[0m \u001b[38;5;28;01melse\u001b[39;00m:\n\u001b[0;32m    625\u001b[0m     \u001b[38;5;66;03m# otherwise we call the vectorized version of predict\u001b[39;00m\n\u001b[0;32m    626\u001b[0m     Xt \u001b[38;5;241m=\u001b[39m \u001b[38;5;28mself\u001b[39m\u001b[38;5;241m.\u001b[39m_vectorize(\u001b[38;5;124m\"\u001b[39m\u001b[38;5;124mtransform\u001b[39m\u001b[38;5;124m\"\u001b[39m, X\u001b[38;5;241m=\u001b[39mX_inner, y\u001b[38;5;241m=\u001b[39my_inner)\n",
      "File \u001b[1;32m~\\AppData\\Roaming\\Python\\Python312\\site-packages\\sktime\\transformations\\series\\lag.py:251\u001b[0m, in \u001b[0;36mLag._transform\u001b[1;34m(self, X, y)\u001b[0m\n\u001b[0;32m    249\u001b[0m \u001b[38;5;28;01mif\u001b[39;00m \u001b[38;5;28mhasattr\u001b[39m(X\u001b[38;5;241m.\u001b[39mindex, \u001b[38;5;124m\"\u001b[39m\u001b[38;5;124mfreq\u001b[39m\u001b[38;5;124m\"\u001b[39m) \u001b[38;5;129;01mand\u001b[39;00m X\u001b[38;5;241m.\u001b[39mindex\u001b[38;5;241m.\u001b[39mfreq \u001b[38;5;129;01mis\u001b[39;00m \u001b[38;5;28;01mNone\u001b[39;00m \u001b[38;5;129;01mand\u001b[39;00m freq \u001b[38;5;129;01mis\u001b[39;00m \u001b[38;5;28;01mNone\u001b[39;00m:\n\u001b[0;32m    250\u001b[0m     freq \u001b[38;5;241m=\u001b[39m pd\u001b[38;5;241m.\u001b[39minfer_freq(X\u001b[38;5;241m.\u001b[39mindex)\n\u001b[1;32m--> 251\u001b[0m X_orig_idx_shifted \u001b[38;5;241m=\u001b[39m X_orig_idx\u001b[38;5;241m.\u001b[39mshift(periods\u001b[38;5;241m=\u001b[39mlag, freq\u001b[38;5;241m=\u001b[39mfreq)\n\u001b[0;32m    252\u001b[0m \u001b[38;5;28;01mif\u001b[39;00m \u001b[38;5;28misinstance\u001b[39m(lag, \u001b[38;5;28mint\u001b[39m) \u001b[38;5;129;01mand\u001b[39;00m freq \u001b[38;5;129;01mis\u001b[39;00m \u001b[38;5;28;01mNone\u001b[39;00m:\n\u001b[0;32m    253\u001b[0m     freq \u001b[38;5;241m=\u001b[39m \u001b[38;5;124m\"\u001b[39m\u001b[38;5;124minfer\u001b[39m\u001b[38;5;124m\"\u001b[39m\n",
      "File \u001b[1;32mC:\\ProgramData\\anaconda3\\Lib\\site-packages\\pandas\\core\\indexes\\datetimelike.py:510\u001b[0m, in \u001b[0;36mDatetimeTimedeltaMixin.shift\u001b[1;34m(self, periods, freq)\u001b[0m\n\u001b[0;32m    507\u001b[0m     \u001b[38;5;28;01mreturn\u001b[39;00m \u001b[38;5;28mself\u001b[39m\u001b[38;5;241m.\u001b[39mcopy()\n\u001b[0;32m    509\u001b[0m \u001b[38;5;28;01mif\u001b[39;00m \u001b[38;5;28mself\u001b[39m\u001b[38;5;241m.\u001b[39mfreq \u001b[38;5;129;01mis\u001b[39;00m \u001b[38;5;28;01mNone\u001b[39;00m:\n\u001b[1;32m--> 510\u001b[0m     \u001b[38;5;28;01mraise\u001b[39;00m NullFrequencyError(\u001b[38;5;124m\"\u001b[39m\u001b[38;5;124mCannot shift with no freq\u001b[39m\u001b[38;5;124m\"\u001b[39m)\n\u001b[0;32m    512\u001b[0m start \u001b[38;5;241m=\u001b[39m \u001b[38;5;28mself\u001b[39m[\u001b[38;5;241m0\u001b[39m] \u001b[38;5;241m+\u001b[39m periods \u001b[38;5;241m*\u001b[39m \u001b[38;5;28mself\u001b[39m\u001b[38;5;241m.\u001b[39mfreq\n\u001b[0;32m    513\u001b[0m end \u001b[38;5;241m=\u001b[39m \u001b[38;5;28mself\u001b[39m[\u001b[38;5;241m-\u001b[39m\u001b[38;5;241m1\u001b[39m] \u001b[38;5;241m+\u001b[39m periods \u001b[38;5;241m*\u001b[39m \u001b[38;5;28mself\u001b[39m\u001b[38;5;241m.\u001b[39mfreq\n",
      "\u001b[1;31mNullFrequencyError\u001b[0m: Cannot shift with no freq"
     ]
    }
   ],
   "source": [
    "from sktime.forecasting.naive import NaiveForecaster\n",
    "\n",
    "forecaster = NaiveForecaster(strategy=\"last\")\n",
    "forecaster.fit(y_train)\n",
    "\n",
    "y_pred = forecaster.predict(ind_date)\n",
    "\n",
    "plot_series(y_train, y_test, y_pred, \n",
    "            labels=[\"y_train\",\"y_test\", \"y_pred\"])"
   ]
  },
  {
   "cell_type": "code",
   "execution_count": null,
   "id": "0e4ecf02-900c-46ba-abc3-de159c01e0d4",
   "metadata": {},
   "outputs": [],
   "source": [
    "mape(y_test, y_pred)"
   ]
  },
  {
   "cell_type": "markdown",
   "id": "0aba918f-22a2-43c6-bbc7-e77720be18ab",
   "metadata": {},
   "source": [
    "#### Возьмём среднее за последние window_length наблюдений"
   ]
  },
  {
   "cell_type": "code",
   "execution_count": null,
   "id": "8a7beeb1-42ac-4ff1-83f4-a30a3dc044cd",
   "metadata": {},
   "outputs": [],
   "source": [
    "forecaster = NaiveForecaster(strategy=\"mean\", window_length=12)\n",
    "forecaster.fit(y_train)\n",
    "\n",
    "y_pred = forecaster.predict(ind_date)\n",
    "\n",
    "plot_series(y_train, y_test, y_pred, \n",
    "            labels=[\"y_train\",\"y_test\", \"y_pred\"])"
   ]
  },
  {
   "cell_type": "code",
   "execution_count": null,
   "id": "f25710eb-e13e-440d-9c61-00521200cdec",
   "metadata": {},
   "outputs": [],
   "source": [
    "mape(y_test, y_pred)"
   ]
  },
  {
   "cell_type": "markdown",
   "id": "d9ad7a7e-11ea-4f5b-a8e8-c1cc375e2da6",
   "metadata": {},
   "source": [
    "### 9.2 ETS (ANN)"
   ]
  },
  {
   "cell_type": "code",
   "execution_count": null,
   "id": "3e0735a3-de43-4c51-8182-2b720595c4c2",
   "metadata": {},
   "outputs": [],
   "source": [
    "from sktime.forecasting.exp_smoothing import ExponentialSmoothing\n",
    "\n",
    "y_train.index = pd.to_datetime(y_train.index).to_period(\"M\")\n",
    "y_test.index = pd.to_datetime(y_test.index).to_period(\"M\")"
   ]
  },
  {
   "cell_type": "code",
   "execution_count": null,
   "id": "f38cc332-8e5e-44f5-b400-8ce6828d10c6",
   "metadata": {},
   "outputs": [],
   "source": [
    "forecaster = ExponentialSmoothing()\n",
    "forecaster.fit(y_train)\n",
    "\n",
    "y_pred = forecaster.predict(ind_date_ets)\n",
    "\n",
    "plot_series(y_train, y_test, y_pred, \n",
    "            labels=[\"y_train\",\"y_test\", \"y_pred\"])"
   ]
  },
  {
   "cell_type": "code",
   "execution_count": null,
   "id": "8a7e9d3b-8eef-4313-8cd3-8a28791db56e",
   "metadata": {},
   "outputs": [],
   "source": [
    "mape(y_test, y_pred)"
   ]
  },
  {
   "cell_type": "markdown",
   "id": "a63e4fb3-c566-407b-becb-85fb096b2ee1",
   "metadata": {},
   "source": [
    "### 9.3 ETS (AAA)"
   ]
  },
  {
   "cell_type": "code",
   "execution_count": null,
   "id": "33006edc-a120-4c00-b112-1a217b25c6f6",
   "metadata": {},
   "outputs": [],
   "source": [
    "forecaster = ExponentialSmoothing(trend=\"add\", seasonal=\"add\", sp=12)\n",
    "forecaster.fit(y_train)\n",
    "\n",
    "y_pred = forecaster.predict(ind_date_ets)\n",
    "\n",
    "plot_series(y_train, y_test, y_pred, \n",
    "            labels=[\"y_train\",\"y_test\", \"y_pred\"])"
   ]
  },
  {
   "cell_type": "code",
   "execution_count": null,
   "id": "9e37d04b-3f9f-4a95-8644-3d025523acd0",
   "metadata": {},
   "outputs": [],
   "source": [
    "mape(y_test, y_pred)"
   ]
  },
  {
   "cell_type": "markdown",
   "id": "f0ee56d9-87c0-4fc0-b7ab-63917c5810b1",
   "metadata": {},
   "source": [
    "### 9.4 AUTO-ETS"
   ]
  },
  {
   "cell_type": "markdown",
   "id": "73d23158-fa5a-4809-aac9-29ea7cf3cdc4",
   "metadata": {},
   "source": [
    "#### Данная модель просто перебирает все модели ETS и находит самую подходящую по какому-то критерию"
   ]
  },
  {
   "cell_type": "code",
   "execution_count": null,
   "id": "d70fe88d-4ec0-4df0-8cc8-67c89e0cf681",
   "metadata": {},
   "outputs": [],
   "source": [
    "from sktime.forecasting.ets import AutoETS\n",
    "\n",
    "forecaster = AutoETS(auto=True, n_jobs=-1, information_criterion='bic')\n",
    "forecaster.fit(y_train)\n",
    "\n",
    "y_pred = forecaster.predict(ind_date_ets)\n",
    "\n",
    "plot_series(y_train, y_test, y_pred, \n",
    "            labels=[\"y_train\",\"y_test\", \"y_pred\"])"
   ]
  },
  {
   "cell_type": "code",
   "execution_count": null,
   "id": "7aba2e77-446c-4626-a8b1-95874d3bc0cd",
   "metadata": {},
   "outputs": [],
   "source": [
    "mape(y_test, y_pred)"
   ]
  },
  {
   "cell_type": "code",
   "execution_count": null,
   "id": "934fb776-a557-4196-bb6c-1c28dcc1ae03",
   "metadata": {},
   "outputs": [],
   "source": []
  }
 ],
 "metadata": {
  "kernelspec": {
   "display_name": "Python 3 (ipykernel)",
   "language": "python",
   "name": "python3"
  },
  "language_info": {
   "codemirror_mode": {
    "name": "ipython",
    "version": 3
   },
   "file_extension": ".py",
   "mimetype": "text/x-python",
   "name": "python",
   "nbconvert_exporter": "python",
   "pygments_lexer": "ipython3",
   "version": "3.12.4"
  }
 },
 "nbformat": 4,
 "nbformat_minor": 5
}
